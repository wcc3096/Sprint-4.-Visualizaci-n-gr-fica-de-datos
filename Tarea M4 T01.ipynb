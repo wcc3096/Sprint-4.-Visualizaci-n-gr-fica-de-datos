{
 "cells": [
  {
   "cell_type": "markdown",
   "id": "3ab38eec",
   "metadata": {},
   "source": [
    "- Ejercicio 1\n",
    "Descarga el dataset adjunto precio alquiler por trimestre y barri.csv  extraído de la web OpenDataBCN y resume estadísticamente y gráficamente.\n",
    "\n",
    "Crea al menos una visualización para:\n",
    "\n",
    "Una variable categórica (Distrito o Barrio)\n",
    "Una variable numérica (Precio)\n",
    "Una variable numérica y una categórica (Distrito y Precio)\n",
    "Dos variables numéricas (Año o Trimestre y Precio)\n",
    "Tres variables (Barrio o Distrito, Trimestre y Precio)\n",
    "\n",
    "\n",
    "- Ejercicio 2\n",
    "Exporta los gráficos como imágenes o HTML.\n",
    "\n",
    "\n",
    "\n",
    "- Ejercicio 3\n",
    "Propone alguna visualización que creas que puede resultar interesante."
   ]
  },
  {
   "cell_type": "code",
   "execution_count": 2,
   "id": "440af23e",
   "metadata": {},
   "outputs": [
    {
     "data": {
      "text/html": [
       "<div>\n",
       "<style scoped>\n",
       "    .dataframe tbody tr th:only-of-type {\n",
       "        vertical-align: middle;\n",
       "    }\n",
       "\n",
       "    .dataframe tbody tr th {\n",
       "        vertical-align: top;\n",
       "    }\n",
       "\n",
       "    .dataframe thead th {\n",
       "        text-align: right;\n",
       "    }\n",
       "</style>\n",
       "<table border=\"1\" class=\"dataframe\">\n",
       "  <thead>\n",
       "    <tr style=\"text-align: right;\">\n",
       "      <th></th>\n",
       "      <th>Any</th>\n",
       "      <th>Trimestre</th>\n",
       "      <th>Codi_Districte</th>\n",
       "      <th>Nom_Districte</th>\n",
       "      <th>Codi_Barri</th>\n",
       "      <th>Nom_Barri</th>\n",
       "      <th>Lloguer_mitja</th>\n",
       "      <th>Preu</th>\n",
       "    </tr>\n",
       "  </thead>\n",
       "  <tbody>\n",
       "    <tr>\n",
       "      <th>0</th>\n",
       "      <td>2021</td>\n",
       "      <td>1</td>\n",
       "      <td>1</td>\n",
       "      <td>Ciutat Vella</td>\n",
       "      <td>1</td>\n",
       "      <td>el Raval</td>\n",
       "      <td>Lloguer mitjà mensual (Euros/mes)</td>\n",
       "      <td>759.2</td>\n",
       "    </tr>\n",
       "    <tr>\n",
       "      <th>1</th>\n",
       "      <td>2021</td>\n",
       "      <td>1</td>\n",
       "      <td>1</td>\n",
       "      <td>Ciutat Vella</td>\n",
       "      <td>2</td>\n",
       "      <td>el Barri Gòtic</td>\n",
       "      <td>Lloguer mitjà mensual (Euros/mes)</td>\n",
       "      <td>929.6</td>\n",
       "    </tr>\n",
       "    <tr>\n",
       "      <th>2</th>\n",
       "      <td>2021</td>\n",
       "      <td>1</td>\n",
       "      <td>1</td>\n",
       "      <td>Ciutat Vella</td>\n",
       "      <td>3</td>\n",
       "      <td>la Barceloneta</td>\n",
       "      <td>Lloguer mitjà mensual (Euros/mes)</td>\n",
       "      <td>808.9</td>\n",
       "    </tr>\n",
       "    <tr>\n",
       "      <th>3</th>\n",
       "      <td>2021</td>\n",
       "      <td>1</td>\n",
       "      <td>1</td>\n",
       "      <td>Ciutat Vella</td>\n",
       "      <td>4</td>\n",
       "      <td>Sant Pere, Santa Caterina i la Ribera</td>\n",
       "      <td>Lloguer mitjà mensual (Euros/mes)</td>\n",
       "      <td>879.4</td>\n",
       "    </tr>\n",
       "    <tr>\n",
       "      <th>4</th>\n",
       "      <td>2021</td>\n",
       "      <td>1</td>\n",
       "      <td>2</td>\n",
       "      <td>Eixample</td>\n",
       "      <td>5</td>\n",
       "      <td>el Fort Pienc</td>\n",
       "      <td>Lloguer mitjà mensual (Euros/mes)</td>\n",
       "      <td>918.0</td>\n",
       "    </tr>\n",
       "    <tr>\n",
       "      <th>...</th>\n",
       "      <td>...</td>\n",
       "      <td>...</td>\n",
       "      <td>...</td>\n",
       "      <td>...</td>\n",
       "      <td>...</td>\n",
       "      <td>...</td>\n",
       "      <td>...</td>\n",
       "      <td>...</td>\n",
       "    </tr>\n",
       "    <tr>\n",
       "      <th>579</th>\n",
       "      <td>2021</td>\n",
       "      <td>4</td>\n",
       "      <td>10</td>\n",
       "      <td>Sant Martí</td>\n",
       "      <td>69</td>\n",
       "      <td>Diagonal Mar i el Front Marítim del Poblenou</td>\n",
       "      <td>Lloguer mitjà per superfície (Euros/m2 mes)</td>\n",
       "      <td>15.2</td>\n",
       "    </tr>\n",
       "    <tr>\n",
       "      <th>580</th>\n",
       "      <td>2021</td>\n",
       "      <td>4</td>\n",
       "      <td>10</td>\n",
       "      <td>Sant Martí</td>\n",
       "      <td>70</td>\n",
       "      <td>el Besòs i el Maresme</td>\n",
       "      <td>Lloguer mitjà per superfície (Euros/m2 mes)</td>\n",
       "      <td>10.8</td>\n",
       "    </tr>\n",
       "    <tr>\n",
       "      <th>581</th>\n",
       "      <td>2021</td>\n",
       "      <td>4</td>\n",
       "      <td>10</td>\n",
       "      <td>Sant Martí</td>\n",
       "      <td>71</td>\n",
       "      <td>Provençals del Poblenou</td>\n",
       "      <td>Lloguer mitjà per superfície (Euros/m2 mes)</td>\n",
       "      <td>13.8</td>\n",
       "    </tr>\n",
       "    <tr>\n",
       "      <th>582</th>\n",
       "      <td>2021</td>\n",
       "      <td>4</td>\n",
       "      <td>10</td>\n",
       "      <td>Sant Martí</td>\n",
       "      <td>72</td>\n",
       "      <td>Sant Martí de Provençals</td>\n",
       "      <td>Lloguer mitjà per superfície (Euros/m2 mes)</td>\n",
       "      <td>11.7</td>\n",
       "    </tr>\n",
       "    <tr>\n",
       "      <th>583</th>\n",
       "      <td>2021</td>\n",
       "      <td>4</td>\n",
       "      <td>10</td>\n",
       "      <td>Sant Martí</td>\n",
       "      <td>73</td>\n",
       "      <td>la Verneda i la Pau</td>\n",
       "      <td>Lloguer mitjà per superfície (Euros/m2 mes)</td>\n",
       "      <td>11.3</td>\n",
       "    </tr>\n",
       "  </tbody>\n",
       "</table>\n",
       "<p>584 rows × 8 columns</p>\n",
       "</div>"
      ],
      "text/plain": [
       "      Any  Trimestre  Codi_Districte Nom_Districte  Codi_Barri  \\\n",
       "0    2021          1               1  Ciutat Vella           1   \n",
       "1    2021          1               1  Ciutat Vella           2   \n",
       "2    2021          1               1  Ciutat Vella           3   \n",
       "3    2021          1               1  Ciutat Vella           4   \n",
       "4    2021          1               2      Eixample           5   \n",
       "..    ...        ...             ...           ...         ...   \n",
       "579  2021          4              10    Sant Martí          69   \n",
       "580  2021          4              10    Sant Martí          70   \n",
       "581  2021          4              10    Sant Martí          71   \n",
       "582  2021          4              10    Sant Martí          72   \n",
       "583  2021          4              10    Sant Martí          73   \n",
       "\n",
       "                                        Nom_Barri  \\\n",
       "0                                        el Raval   \n",
       "1                                  el Barri Gòtic   \n",
       "2                                  la Barceloneta   \n",
       "3           Sant Pere, Santa Caterina i la Ribera   \n",
       "4                                   el Fort Pienc   \n",
       "..                                            ...   \n",
       "579  Diagonal Mar i el Front Marítim del Poblenou   \n",
       "580                         el Besòs i el Maresme   \n",
       "581                       Provençals del Poblenou   \n",
       "582                      Sant Martí de Provençals   \n",
       "583                           la Verneda i la Pau   \n",
       "\n",
       "                                   Lloguer_mitja   Preu  \n",
       "0              Lloguer mitjà mensual (Euros/mes)  759.2  \n",
       "1              Lloguer mitjà mensual (Euros/mes)  929.6  \n",
       "2              Lloguer mitjà mensual (Euros/mes)  808.9  \n",
       "3              Lloguer mitjà mensual (Euros/mes)  879.4  \n",
       "4              Lloguer mitjà mensual (Euros/mes)  918.0  \n",
       "..                                           ...    ...  \n",
       "579  Lloguer mitjà per superfície (Euros/m2 mes)   15.2  \n",
       "580  Lloguer mitjà per superfície (Euros/m2 mes)   10.8  \n",
       "581  Lloguer mitjà per superfície (Euros/m2 mes)   13.8  \n",
       "582  Lloguer mitjà per superfície (Euros/m2 mes)   11.7  \n",
       "583  Lloguer mitjà per superfície (Euros/m2 mes)   11.3  \n",
       "\n",
       "[584 rows x 8 columns]"
      ]
     },
     "execution_count": 2,
     "metadata": {},
     "output_type": "execute_result"
    }
   ],
   "source": [
    "import pandas as pd\n",
    "import numpy as np\n",
    "df=pd.read_csv(r'C:\\Users\\wcc30\\Downloads\\preu lloguer per trimestre i barri.csv')\n",
    "df"
   ]
  },
  {
   "cell_type": "markdown",
   "id": "734eea2b",
   "metadata": {},
   "source": [
    "Info Variables:"
   ]
  },
  {
   "cell_type": "code",
   "execution_count": 3,
   "id": "ed619422",
   "metadata": {},
   "outputs": [
    {
     "name": "stdout",
     "output_type": "stream",
     "text": [
      "<class 'pandas.core.frame.DataFrame'>\n",
      "RangeIndex: 584 entries, 0 to 583\n",
      "Data columns (total 8 columns):\n",
      " #   Column          Non-Null Count  Dtype \n",
      "---  ------          --------------  ----- \n",
      " 0   Any             584 non-null    int64 \n",
      " 1   Trimestre       584 non-null    int64 \n",
      " 2   Codi_Districte  584 non-null    int64 \n",
      " 3   Nom_Districte   584 non-null    object\n",
      " 4   Codi_Barri      584 non-null    int64 \n",
      " 5   Nom_Barri       584 non-null    object\n",
      " 6   Lloguer_mitja   584 non-null    object\n",
      " 7   Preu            584 non-null    object\n",
      "dtypes: int64(4), object(4)\n",
      "memory usage: 36.6+ KB\n"
     ]
    }
   ],
   "source": [
    "df.info()"
   ]
  },
  {
   "cell_type": "markdown",
   "id": "da8a62f2",
   "metadata": {},
   "source": [
    "Podemos ver que es una base de datos de 8 variables,la cual no contiene valores nulos. Paso siguiente será eliminar los datos duplicados, en caso los tuviera."
   ]
  },
  {
   "cell_type": "code",
   "execution_count": 4,
   "id": "5b0cd8ac",
   "metadata": {},
   "outputs": [
    {
     "data": {
      "text/html": [
       "<div>\n",
       "<style scoped>\n",
       "    .dataframe tbody tr th:only-of-type {\n",
       "        vertical-align: middle;\n",
       "    }\n",
       "\n",
       "    .dataframe tbody tr th {\n",
       "        vertical-align: top;\n",
       "    }\n",
       "\n",
       "    .dataframe thead th {\n",
       "        text-align: right;\n",
       "    }\n",
       "</style>\n",
       "<table border=\"1\" class=\"dataframe\">\n",
       "  <thead>\n",
       "    <tr style=\"text-align: right;\">\n",
       "      <th></th>\n",
       "      <th>Any</th>\n",
       "      <th>Trimestre</th>\n",
       "      <th>Codi_Districte</th>\n",
       "      <th>Nom_Districte</th>\n",
       "      <th>Codi_Barri</th>\n",
       "      <th>Nom_Barri</th>\n",
       "      <th>Lloguer_mitja</th>\n",
       "      <th>Preu</th>\n",
       "    </tr>\n",
       "  </thead>\n",
       "  <tbody>\n",
       "    <tr>\n",
       "      <th>0</th>\n",
       "      <td>2021</td>\n",
       "      <td>1</td>\n",
       "      <td>1</td>\n",
       "      <td>Ciutat Vella</td>\n",
       "      <td>1</td>\n",
       "      <td>el Raval</td>\n",
       "      <td>Lloguer mitjà mensual (Euros/mes)</td>\n",
       "      <td>759.2</td>\n",
       "    </tr>\n",
       "    <tr>\n",
       "      <th>1</th>\n",
       "      <td>2021</td>\n",
       "      <td>1</td>\n",
       "      <td>1</td>\n",
       "      <td>Ciutat Vella</td>\n",
       "      <td>2</td>\n",
       "      <td>el Barri Gòtic</td>\n",
       "      <td>Lloguer mitjà mensual (Euros/mes)</td>\n",
       "      <td>929.6</td>\n",
       "    </tr>\n",
       "    <tr>\n",
       "      <th>2</th>\n",
       "      <td>2021</td>\n",
       "      <td>1</td>\n",
       "      <td>1</td>\n",
       "      <td>Ciutat Vella</td>\n",
       "      <td>3</td>\n",
       "      <td>la Barceloneta</td>\n",
       "      <td>Lloguer mitjà mensual (Euros/mes)</td>\n",
       "      <td>808.9</td>\n",
       "    </tr>\n",
       "    <tr>\n",
       "      <th>3</th>\n",
       "      <td>2021</td>\n",
       "      <td>1</td>\n",
       "      <td>1</td>\n",
       "      <td>Ciutat Vella</td>\n",
       "      <td>4</td>\n",
       "      <td>Sant Pere, Santa Caterina i la Ribera</td>\n",
       "      <td>Lloguer mitjà mensual (Euros/mes)</td>\n",
       "      <td>879.4</td>\n",
       "    </tr>\n",
       "    <tr>\n",
       "      <th>4</th>\n",
       "      <td>2021</td>\n",
       "      <td>1</td>\n",
       "      <td>2</td>\n",
       "      <td>Eixample</td>\n",
       "      <td>5</td>\n",
       "      <td>el Fort Pienc</td>\n",
       "      <td>Lloguer mitjà mensual (Euros/mes)</td>\n",
       "      <td>918.0</td>\n",
       "    </tr>\n",
       "    <tr>\n",
       "      <th>...</th>\n",
       "      <td>...</td>\n",
       "      <td>...</td>\n",
       "      <td>...</td>\n",
       "      <td>...</td>\n",
       "      <td>...</td>\n",
       "      <td>...</td>\n",
       "      <td>...</td>\n",
       "      <td>...</td>\n",
       "    </tr>\n",
       "    <tr>\n",
       "      <th>579</th>\n",
       "      <td>2021</td>\n",
       "      <td>4</td>\n",
       "      <td>10</td>\n",
       "      <td>Sant Martí</td>\n",
       "      <td>69</td>\n",
       "      <td>Diagonal Mar i el Front Marítim del Poblenou</td>\n",
       "      <td>Lloguer mitjà per superfície (Euros/m2 mes)</td>\n",
       "      <td>15.2</td>\n",
       "    </tr>\n",
       "    <tr>\n",
       "      <th>580</th>\n",
       "      <td>2021</td>\n",
       "      <td>4</td>\n",
       "      <td>10</td>\n",
       "      <td>Sant Martí</td>\n",
       "      <td>70</td>\n",
       "      <td>el Besòs i el Maresme</td>\n",
       "      <td>Lloguer mitjà per superfície (Euros/m2 mes)</td>\n",
       "      <td>10.8</td>\n",
       "    </tr>\n",
       "    <tr>\n",
       "      <th>581</th>\n",
       "      <td>2021</td>\n",
       "      <td>4</td>\n",
       "      <td>10</td>\n",
       "      <td>Sant Martí</td>\n",
       "      <td>71</td>\n",
       "      <td>Provençals del Poblenou</td>\n",
       "      <td>Lloguer mitjà per superfície (Euros/m2 mes)</td>\n",
       "      <td>13.8</td>\n",
       "    </tr>\n",
       "    <tr>\n",
       "      <th>582</th>\n",
       "      <td>2021</td>\n",
       "      <td>4</td>\n",
       "      <td>10</td>\n",
       "      <td>Sant Martí</td>\n",
       "      <td>72</td>\n",
       "      <td>Sant Martí de Provençals</td>\n",
       "      <td>Lloguer mitjà per superfície (Euros/m2 mes)</td>\n",
       "      <td>11.7</td>\n",
       "    </tr>\n",
       "    <tr>\n",
       "      <th>583</th>\n",
       "      <td>2021</td>\n",
       "      <td>4</td>\n",
       "      <td>10</td>\n",
       "      <td>Sant Martí</td>\n",
       "      <td>73</td>\n",
       "      <td>la Verneda i la Pau</td>\n",
       "      <td>Lloguer mitjà per superfície (Euros/m2 mes)</td>\n",
       "      <td>11.3</td>\n",
       "    </tr>\n",
       "  </tbody>\n",
       "</table>\n",
       "<p>584 rows × 8 columns</p>\n",
       "</div>"
      ],
      "text/plain": [
       "      Any  Trimestre  Codi_Districte Nom_Districte  Codi_Barri  \\\n",
       "0    2021          1               1  Ciutat Vella           1   \n",
       "1    2021          1               1  Ciutat Vella           2   \n",
       "2    2021          1               1  Ciutat Vella           3   \n",
       "3    2021          1               1  Ciutat Vella           4   \n",
       "4    2021          1               2      Eixample           5   \n",
       "..    ...        ...             ...           ...         ...   \n",
       "579  2021          4              10    Sant Martí          69   \n",
       "580  2021          4              10    Sant Martí          70   \n",
       "581  2021          4              10    Sant Martí          71   \n",
       "582  2021          4              10    Sant Martí          72   \n",
       "583  2021          4              10    Sant Martí          73   \n",
       "\n",
       "                                        Nom_Barri  \\\n",
       "0                                        el Raval   \n",
       "1                                  el Barri Gòtic   \n",
       "2                                  la Barceloneta   \n",
       "3           Sant Pere, Santa Caterina i la Ribera   \n",
       "4                                   el Fort Pienc   \n",
       "..                                            ...   \n",
       "579  Diagonal Mar i el Front Marítim del Poblenou   \n",
       "580                         el Besòs i el Maresme   \n",
       "581                       Provençals del Poblenou   \n",
       "582                      Sant Martí de Provençals   \n",
       "583                           la Verneda i la Pau   \n",
       "\n",
       "                                   Lloguer_mitja   Preu  \n",
       "0              Lloguer mitjà mensual (Euros/mes)  759.2  \n",
       "1              Lloguer mitjà mensual (Euros/mes)  929.6  \n",
       "2              Lloguer mitjà mensual (Euros/mes)  808.9  \n",
       "3              Lloguer mitjà mensual (Euros/mes)  879.4  \n",
       "4              Lloguer mitjà mensual (Euros/mes)  918.0  \n",
       "..                                           ...    ...  \n",
       "579  Lloguer mitjà per superfície (Euros/m2 mes)   15.2  \n",
       "580  Lloguer mitjà per superfície (Euros/m2 mes)   10.8  \n",
       "581  Lloguer mitjà per superfície (Euros/m2 mes)   13.8  \n",
       "582  Lloguer mitjà per superfície (Euros/m2 mes)   11.7  \n",
       "583  Lloguer mitjà per superfície (Euros/m2 mes)   11.3  \n",
       "\n",
       "[584 rows x 8 columns]"
      ]
     },
     "execution_count": 4,
     "metadata": {},
     "output_type": "execute_result"
    }
   ],
   "source": [
    "df=df.replace({'--':np.nan})\n",
    "df"
   ]
  },
  {
   "cell_type": "code",
   "execution_count": 5,
   "id": "090b118d",
   "metadata": {},
   "outputs": [
    {
     "name": "stdout",
     "output_type": "stream",
     "text": [
      "Suma de datos missing:\n",
      " Any                0\n",
      "Trimestre          0\n",
      "Codi_Districte     0\n",
      "Nom_Districte      0\n",
      "Codi_Barri         0\n",
      "Nom_Barri          0\n",
      "Lloguer_mitja      0\n",
      "Preu              44\n",
      "dtype: int64\n"
     ]
    }
   ],
   "source": [
    "print(\"Suma de datos missing:\\n\", df.isnull().sum())"
   ]
  },
  {
   "cell_type": "code",
   "execution_count": 6,
   "id": "fb972325",
   "metadata": {},
   "outputs": [
    {
     "name": "stdout",
     "output_type": "stream",
     "text": [
      "\n",
      "Porcentaje de datos missing % :\n",
      " Any               0.00\n",
      "Trimestre         0.00\n",
      "Codi_Districte    0.00\n",
      "Nom_Districte     0.00\n",
      "Codi_Barri        0.00\n",
      "Nom_Barri         0.00\n",
      "Lloguer_mitja     0.00\n",
      "Preu              7.53\n",
      "dtype: float64\n"
     ]
    }
   ],
   "source": [
    "print(\"\\nPorcentaje de datos missing % :\\n\", round((df.isnull().sum()*100/df.shape[0]),2))"
   ]
  },
  {
   "cell_type": "code",
   "execution_count": 8,
   "id": "05db950d",
   "metadata": {},
   "outputs": [],
   "source": [
    "#Eliminamos los NAs restantes\n",
    "df= df.dropna()\n",
    "\n",
    "#Eliminamos los registros duplicados\n",
    "df = df.drop_duplicates()"
   ]
  },
  {
   "cell_type": "code",
   "execution_count": 9,
   "id": "fbf887f5",
   "metadata": {},
   "outputs": [],
   "source": [
    "df['Preu'] = df['Preu'].astype('float')\n",
    "df['Codi_Districte'] = df['Codi_Districte'].astype('category')\n",
    "df['Codi_Barri'] = df['Codi_Barri'].astype('category')"
   ]
  },
  {
   "cell_type": "code",
   "execution_count": 10,
   "id": "12322d70",
   "metadata": {},
   "outputs": [
    {
     "name": "stdout",
     "output_type": "stream",
     "text": [
      "<class 'pandas.core.frame.DataFrame'>\n",
      "Int64Index: 540 entries, 0 to 583\n",
      "Data columns (total 8 columns):\n",
      " #   Column          Non-Null Count  Dtype   \n",
      "---  ------          --------------  -----   \n",
      " 0   Any             540 non-null    int64   \n",
      " 1   Trimestre       540 non-null    int64   \n",
      " 2   Codi_Districte  540 non-null    category\n",
      " 3   Nom_Districte   540 non-null    object  \n",
      " 4   Codi_Barri      540 non-null    category\n",
      " 5   Nom_Barri       540 non-null    object  \n",
      " 6   Lloguer_mitja   540 non-null    object  \n",
      " 7   Preu            540 non-null    float64 \n",
      "dtypes: category(2), float64(1), int64(2), object(3)\n",
      "memory usage: 33.5+ KB\n"
     ]
    }
   ],
   "source": [
    "df.info()"
   ]
  },
  {
   "cell_type": "code",
   "execution_count": 11,
   "id": "eddc8a2d",
   "metadata": {},
   "outputs": [
    {
     "data": {
      "text/html": [
       "<div>\n",
       "<style scoped>\n",
       "    .dataframe tbody tr th:only-of-type {\n",
       "        vertical-align: middle;\n",
       "    }\n",
       "\n",
       "    .dataframe tbody tr th {\n",
       "        vertical-align: top;\n",
       "    }\n",
       "\n",
       "    .dataframe thead th {\n",
       "        text-align: right;\n",
       "    }\n",
       "</style>\n",
       "<table border=\"1\" class=\"dataframe\">\n",
       "  <thead>\n",
       "    <tr style=\"text-align: right;\">\n",
       "      <th></th>\n",
       "      <th>Any</th>\n",
       "      <th>Trimestre</th>\n",
       "      <th>Preu</th>\n",
       "    </tr>\n",
       "  </thead>\n",
       "  <tbody>\n",
       "    <tr>\n",
       "      <th>count</th>\n",
       "      <td>540.0</td>\n",
       "      <td>540.0</td>\n",
       "      <td>540.0</td>\n",
       "    </tr>\n",
       "    <tr>\n",
       "      <th>mean</th>\n",
       "      <td>2021.0</td>\n",
       "      <td>2.5</td>\n",
       "      <td>442.2</td>\n",
       "    </tr>\n",
       "    <tr>\n",
       "      <th>std</th>\n",
       "      <td>0.0</td>\n",
       "      <td>1.1</td>\n",
       "      <td>457.4</td>\n",
       "    </tr>\n",
       "    <tr>\n",
       "      <th>min</th>\n",
       "      <td>2021.0</td>\n",
       "      <td>1.0</td>\n",
       "      <td>6.7</td>\n",
       "    </tr>\n",
       "    <tr>\n",
       "      <th>25%</th>\n",
       "      <td>2021.0</td>\n",
       "      <td>2.0</td>\n",
       "      <td>12.8</td>\n",
       "    </tr>\n",
       "    <tr>\n",
       "      <th>50%</th>\n",
       "      <td>2021.0</td>\n",
       "      <td>2.5</td>\n",
       "      <td>232.8</td>\n",
       "    </tr>\n",
       "    <tr>\n",
       "      <th>75%</th>\n",
       "      <td>2021.0</td>\n",
       "      <td>4.0</td>\n",
       "      <td>815.9</td>\n",
       "    </tr>\n",
       "    <tr>\n",
       "      <th>max</th>\n",
       "      <td>2021.0</td>\n",
       "      <td>4.0</td>\n",
       "      <td>1816.5</td>\n",
       "    </tr>\n",
       "  </tbody>\n",
       "</table>\n",
       "</div>"
      ],
      "text/plain": [
       "          Any Trimestre    Preu\n",
       "count   540.0     540.0   540.0\n",
       "mean   2021.0       2.5   442.2\n",
       "std       0.0       1.1   457.4\n",
       "min    2021.0       1.0     6.7\n",
       "25%    2021.0       2.0    12.8\n",
       "50%    2021.0       2.5   232.8\n",
       "75%    2021.0       4.0   815.9\n",
       "max    2021.0       4.0  1816.5"
      ]
     },
     "execution_count": 11,
     "metadata": {},
     "output_type": "execute_result"
    }
   ],
   "source": [
    "df.describe().applymap(\"{0:.1f}\".format)"
   ]
  },
  {
   "cell_type": "code",
   "execution_count": 12,
   "id": "1cc2292d",
   "metadata": {},
   "outputs": [],
   "source": [
    "import seaborn as sns\n",
    "import matplotlib.pyplot as plt\n",
    "%matplotlib inline"
   ]
  },
  {
   "cell_type": "code",
   "execution_count": 13,
   "id": "78ee49c4",
   "metadata": {},
   "outputs": [],
   "source": [
    "Districte_total = df.Nom_Districte.value_counts()"
   ]
  },
  {
   "cell_type": "markdown",
   "id": "9655c8ce",
   "metadata": {},
   "source": [
    "Variable categorica"
   ]
  },
  {
   "cell_type": "code",
   "execution_count": 26,
   "id": "2e1193fd",
   "metadata": {
    "scrolled": false
   },
   "outputs": [
    {
     "data": {
      "image/png": "[encoded data removed]",
      "text/plain": [
       "<Figure size 1080x720 with 1 Axes>"
      ]
     },
     "metadata": {
      "needs_background": "light"
     },
     "output_type": "display_data"
    }
   ],
   "source": [
    "# Número de distritos en Barcelona\n",
    "plt.figure(figsize=(15, 10))\n",
    "sns.barplot(x=Districte_total.index, y=Districte_total)\n",
    "plt.xticks(rotation=0)\n",
    "\n",
    "plt.title(\"Freq Districte\", fontsize = 16)\n",
    "\n",
    "plt.xlabel('Districte')\n",
    "\n",
    "plt.ylabel('Count')\n",
    "plt.savefig('Grafico1.jpg', dpi=300, bbox_inches='tight') "
   ]
  },
  {
   "cell_type": "markdown",
   "id": "7434e349",
   "metadata": {},
   "source": [
    "En el grafico anterior, podemos ver que Nou Barris es el distrito con mayor número de barrios a diferencia de Les Corts. A pesar de que Nou Barris tenga el mayor número de barrios, no es el distrito más grande. \n"
   ]
  },
  {
   "cell_type": "markdown",
   "id": "669e0f86",
   "metadata": {},
   "source": [
    "Variable Numérica"
   ]
  },
  {
   "cell_type": "code",
   "execution_count": 27,
   "id": "322dc756",
   "metadata": {},
   "outputs": [
    {
     "data": {
      "image/png": "[encoded data removed]",
      "text/plain": [
       "<Figure size 720x360 with 1 Axes>"
      ]
     },
     "metadata": {
      "needs_background": "light"
     },
     "output_type": "display_data"
    }
   ],
   "source": [
    "plt.figure(figsize=(10, 5))\n",
    "sns.boxplot(data=df[\"Preu\"])\n",
    "plt.title(\"BoxPlot Preu\", fontsize = 16)\n",
    "plt.savefig('Grafico2.jpg', dpi=300, bbox_inches='tight') "
   ]
  },
  {
   "cell_type": "markdown",
   "id": "2e01fdf4",
   "metadata": {},
   "source": [
    "Variable Numérica, filtrando la variable categorica \"Lloguer mitja\""
   ]
  },
  {
   "cell_type": "code",
   "execution_count": 28,
   "id": "c311a28a",
   "metadata": {},
   "outputs": [
    {
     "data": {
      "image/png": "[encoded data removed]",
      "text/plain": [
       "<Figure size 1440x720 with 1 Axes>"
      ]
     },
     "metadata": {
      "needs_background": "light"
     },
     "output_type": "display_data"
    }
   ],
   "source": [
    "plt.figure(figsize=(20, 10))\n",
    "sns.boxplot(data=df[df.Lloguer_mitja == 'Lloguer mitjà mensual (Euros/mes)'], x=\"Preu\")\n",
    "plt.title(\"BoxPlot Preu x Euro/Mes\", fontsize = 16)\n",
    "plt.savefig('Grafico3.jpg', dpi=300, bbox_inches='tight') "
   ]
  },
  {
   "cell_type": "markdown",
   "id": "62b9e250",
   "metadata": {},
   "source": [
    "Se hizo dos gráficas de cajas, en la primera podemos decir que hay un error ya que la variable Lloguer Mitja es binomial y hace que la variable Preu tenga una notoria diferencia. Por ello, en la segunda realizamos una filtración seleccionando \"Lloguer mitjà mensual (Euros/mes)\" para poder tener un grafico mas limpio y que nos permita tener mayor conclusiones.\n",
    "\n",
    "En el grafico que filtramos por Euros/Mes, podemos detectar varios outliers muy por encima de su limite superior y también 1 del inferior. Con una mediana de un poco mas de 800 Euros/Mes aproximadamente, la ubicación de la linea de la mediana en el grafico nos indica tambien que tenemos datos sesgados ya que la linea la encontramos mas cerca a la parte inferior.\n",
    "\n",
    "Como mayor precio medio de alquiler Euro/Mes tenemos 1200 Euros/Mes.\n",
    "\n",
    "Ademas observamos que el 25% de los valores de la variable Preu(Euros/Mes) estan por encima de aprox 950 Euros/Mes.\n"
   ]
  },
  {
   "cell_type": "markdown",
   "id": "c85270dc",
   "metadata": {},
   "source": [
    "Variable categórica y numérica"
   ]
  },
  {
   "cell_type": "code",
   "execution_count": 29,
   "id": "7a517d4c",
   "metadata": {},
   "outputs": [
    {
     "data": {
      "image/png": "[encoded data removed]",
      "text/plain": [
       "<Figure size 1440x720 with 1 Axes>"
      ]
     },
     "metadata": {
      "needs_background": "light"
     },
     "output_type": "display_data"
    }
   ],
   "source": [
    "plt.figure(figsize=(20, 10))\n",
    "sns.boxplot(data=df[df.Lloguer_mitja == 'Lloguer mitjà mensual (Euros/mes)'], x= \"Preu\", y=\"Nom_Districte\", orient= \"h\")\n",
    "plt.xticks(rotation=0)\n",
    "\n",
    "plt.title(\"BoxPlot Districte x Preu - Lloguer mitjà mensual (Euro/Mes)\", fontsize = 16)\n",
    "\n",
    "plt.xlabel('Preu')\n",
    "\n",
    "plt.ylabel('Districte')\n",
    "plt.savefig('Grafico4.jpg', dpi=300, bbox_inches='tight') "
   ]
  },
  {
   "cell_type": "markdown",
   "id": "6b95a726",
   "metadata": {},
   "source": [
    "En el grafico anterior podemos ver a detalle cada Distrito segun Preu (Euros/Mes).\n",
    "Teniendo a Les Corts como distrito con el Preu mas alto, contrario de Sant Andreu que tiene el valor mas bajo.\n",
    "Tenemos 4 distritos con valores atipicos: Sants-Montjuic,Gracia, Nou Barris y Sant Marti\n",
    "Les Corts es el distrito que mas notorio tiene sus valores sesgados, con una mediana de 1000 Euros/Mes"
   ]
  },
  {
   "cell_type": "markdown",
   "id": "4b29070a",
   "metadata": {},
   "source": [
    "2 variables numéricas"
   ]
  },
  {
   "cell_type": "code",
   "execution_count": 30,
   "id": "b848487a",
   "metadata": {},
   "outputs": [
    {
     "data": {
      "image/png": "[encoded data removed]",
      "text/plain": [
       "<Figure size 1440x720 with 1 Axes>"
      ]
     },
     "metadata": {
      "needs_background": "light"
     },
     "output_type": "display_data"
    }
   ],
   "source": [
    "plt.figure(figsize=(20, 10))\n",
    "sns.boxplot(data=df[df.Lloguer_mitja == 'Lloguer mitjà per superfície (Euros/m2 mes)'], y= \"Preu\", x=\"Trimestre\", orient= \"v\")\n",
    "plt.xticks(rotation=0)\n",
    "plt.title(\"BoxPlot Districte x Preu - Lloguer mitjà mensual (Euro/Mes)\", fontsize = 16)\n",
    "plt.xlabel('Trimestre - 2021')\n",
    "plt.ylabel('Preu')\n",
    "plt.savefig('Grafico5.jpg', dpi=300, bbox_inches='tight') "
   ]
  },
  {
   "cell_type": "markdown",
   "id": "c213eb36",
   "metadata": {},
   "source": [
    "3 variables"
   ]
  },
  {
   "cell_type": "code",
   "execution_count": 22,
   "id": "d5daade2",
   "metadata": {},
   "outputs": [],
   "source": [
    "df_LesCorts= df[df.Nom_Districte == 'Les Corts']\n",
    "df_LesCorts = df_LesCorts.drop(['Any'], axis=1)"
   ]
  },
  {
   "cell_type": "code",
   "execution_count": 31,
   "id": "640a8e39",
   "metadata": {},
   "outputs": [
    {
     "data": {
      "image/png": "[encoded data removed]",
      "text/plain": [
       "<Figure size 1440x720 with 1 Axes>"
      ]
     },
     "metadata": {
      "needs_background": "light"
     },
     "output_type": "display_data"
    }
   ],
   "source": [
    "plt.figure(figsize=(20, 10))\n",
    "sns.lineplot(data=df_LesCorts[df_LesCorts.Lloguer_mitja == 'Lloguer mitjà per superfície (Euros/m2 mes)'], \n",
    "            x=\"Trimestre\", hue=\"Nom_Barri\", y =\"Preu\",style =\"Nom_Barri\",markers=True)\n",
    "plt.legend(bbox_to_anchor=(1.02, 1), loc='upper left', borderaxespad=0)\n",
    "plt.savefig('Grafico6.jpg', dpi=300, bbox_inches='tight') "
   ]
  },
  {
   "cell_type": "markdown",
   "id": "ae5d579e",
   "metadata": {},
   "source": [
    "En el gráfico anterior, hemos filtrado la data por Euros/m2 mes  seleccionando al Distrito de Les Corts,teniendo como conclusiones las siguientes:\n",
    "\n",
    "El barrio de Pedralbes es el barrio mas caro (Lloguer mitjà per superfície : \"Euros/m2 mes\") a diferencia de los 2 barrios restante, no obstante es el barrio que mayor variación a sufrido durante el año teniendo una alza significativa en el 2t y 3t; y finalizando su ultimo trimestre con un valor descendiente.\n",
    "\n",
    "Les Corts es el barrio con un comportamiento menos variable respeto al precio (Lloguer mitjà per superfície : \"Euros/m2 mes\"), manteniendo sus valores alrededor de los 14 Euros/m2 mes."
   ]
  },
  {
   "cell_type": "markdown",
   "id": "a447f7df",
   "metadata": {},
   "source": [
    "Graficamos la correlación de las variables númericas Trimestre con Precio, no tomamos la variable año porque todo corresponde al mismo año (2021)"
   ]
  },
  {
   "cell_type": "code",
   "execution_count": 32,
   "id": "030bc4f8",
   "metadata": {},
   "outputs": [
    {
     "data": {
      "image/png": "[encoded data removed]",
      "text/plain": [
       "<Figure size 1440x720 with 2 Axes>"
      ]
     },
     "metadata": {
      "needs_background": "light"
     },
     "output_type": "display_data"
    }
   ],
   "source": [
    "plt.figure(figsize=(20, 10))\n",
    "df_new = df.drop(['Any'], axis=1)\n",
    "sns.heatmap(df_new.corr(),cmap='coolwarm',annot=True)\n",
    "plt.savefig('Grafico7.jpg', dpi=300, bbox_inches='tight') "
   ]
  },
  {
   "cell_type": "markdown",
   "id": "378be921",
   "metadata": {},
   "source": [
    "El grafico anterior de correlación , nos indica que no hay practicamente una correlación entre las variables preu y trimestre."
   ]
  },
  {
   "cell_type": "code",
   "execution_count": 33,
   "id": "0a2ac320",
   "metadata": {},
   "outputs": [
    {
     "data": {
      "image/png": "[encoded data removed]",
      "text/plain": [
       "<Figure size 1440x720 with 2 Axes>"
      ]
     },
     "metadata": {
      "needs_background": "light"
     },
     "output_type": "display_data"
    }
   ],
   "source": [
    "plt.figure(figsize=(20, 10))\n",
    "pv_dfnew = df_new[df_new.Lloguer_mitja == 'Lloguer mitjà per superfície (Euros/m2 mes)'].pivot_table(values='Preu',\n",
    "                                                                                                     index='Nom_Districte',\n",
    "                                                                                                     columns='Trimestre')\n",
    "sns.heatmap(pv_dfnew, cmap='magma',linecolor='white',linewidths=1)\n",
    "plt.savefig('Grafico8.jpg', dpi=300, bbox_inches='tight') "
   ]
  },
  {
   "cell_type": "markdown",
   "id": "189d1b5e",
   "metadata": {},
   "source": [
    "El grafico anterior nos permite visualizar claramente que Sarria- Sant Gervasi es el distrito mas caro (Lloguer mitjà per superfície :\"Euros/m2 mes\"),llegando a cerrar el año 2021 con un valor mayor a los 15 Euros/m2 mes.\n",
    "\n",
    "Los distritos mas baratos tenemos: Nou Barris , Sant Andreu y Horta-Guinardo.\n",
    "\n",
    "El distrito de Ciutat Vella ha tenido un comportamiento creciente respecto a la variable Preu (Lloguer mitjà per superfície :\"Euros/m2 mes\")."
   ]
  }
 ],
 "metadata": {
  "kernelspec": {
   "display_name": "Python 3",
   "language": "python",
   "name": "python3"
  },
  "language_info": {
   "codemirror_mode": {
    "name": "ipython",
    "version": 3
   },
   "file_extension": ".py",
   "mimetype": "text/x-python",
   "name": "python",
   "nbconvert_exporter": "python",
   "pygments_lexer": "ipython3",
   "version": "3.8.8"
  }
 },
 "nbformat": 4,
 "nbformat_minor": 5
}
